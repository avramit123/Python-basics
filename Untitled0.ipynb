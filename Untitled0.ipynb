{
  "nbformat": 4,
  "nbformat_minor": 0,
  "metadata": {
    "colab": {
      "provenance": []
    },
    "kernelspec": {
      "name": "python3",
      "display_name": "Python 3"
    },
    "language_info": {
      "name": "python"
    }
  },
  "cells": [
    {
      "cell_type": "markdown",
      "source": [
        "1. What is Python, and why is it popular?\n",
        "   - Python is a popular programming language because it's easy to learn, versatile, and can run on many platforms. It's used for many applications, including web development, data science, machine learning, and artificial intelligence.\n",
        "   It is popular because,it is Easy to learn,Cross-platform,Open source\n",
        "\n",
        "2. What is an interpreter in Python?\n",
        "    - A Python interpreter is a program that reads and executes Python code line by line. It's a core component of Python, allowing users to test and run their code.\n",
        "\n",
        "3. What are pre-defined keywords in Python?\n",
        "   -Keywords are reserved words in Python that have predefined meanings and cannot be used as identifiers (e.g., variable names, function names). They are crucial for defining the structure and logic of Python code.\n",
        "\n",
        "4. Can keywords be used as variable names?\n",
        "  - Keywords are reserved words in Python that have predefined meanings and cannot be used as identifiers (variable names, function names, etc.). They are essential for defining the structure and logic of Python code. The number of keywords may vary slightly between Python versions, but the core set remains consistent.  \n",
        "\n",
        "5. What is mutability in Python?\n",
        "   -Mutability in Python refers to the ability of an object to be modified after it is created. If an object is mutable, its state or value can be changed in place, without creating a new object.  \n",
        "\n",
        "6. Why are lists mutable, but tuples are immutable?\n",
        "   - The main difference between tuples and lists is that tuples are immutable, meaning their contents cannot be changed after creation, while lists are mutable and can be modified. Additionally, tuples are more memory-efficient compared to lists. Tuples can't be changed after they're created, but lists can be modified.\n",
        "\n",
        "7. What is the difference between “==” and “is” operators in Python?\n",
        "    - The 'is' is known as the identity operator. The == operator helps us compare the equality of objects. The is operator helps us check whether different variables point towards a similar object in the memory. We use the == operator in Python when the values of both the operands are very much equal.\n",
        "\n",
        "8. What are logical operators in Python?\n",
        "   - Logical operators in Python are used to combine or modify boolean values (True or False). There are three main logical operators: and, or, and not.\n",
        "\n",
        "9. What is type casting in Python?\n",
        "  - Type casting, also known as type conversion, is the process of changing a variable's data type. In Python, it allows you to convert values from one type to another, such as converting a string to an integer or a float to an integer. Type casting can be explicit, where the programmer specifies the conversion, or implicit, where Python automatically performs the conversion.\n",
        "\n",
        "10. What is the difference between implicit and explicit type casting?\n",
        "  - Implicit type casting (or conversion) happens automatically by the compiler, while explicit type casting (or type casting) requires the programmer to explicitly instruct the conversion, often when there's a risk of data loss.   \n",
        "\n",
        "11. What is the purpose of conditional statements in Python?\n",
        "   -Conditional statements in Python, like if, elif, and else, allow you to control the flow of your program's execution by executing different code blocks based on whether a condition is true or false.\n",
        "\n",
        "12.  How does the elif statement work?\n",
        "  - The “elif” keyword in Python, stands for “else if”. It can be used in conditional statements to check for multiple conditions. For example, if the first condition is false, it moves on to the next “elif” statement to check if that condition is true   \n",
        "\n",
        "13. What is the difference between for and while loops?\n",
        "  - 'for' loops are well-suited for structured tasks with a known number of iterations, while 'while' loops are better for more complicated looping requirements and dynamic conditions.\n",
        "\n",
        "14. Describe a scenario where a while loop is more suitable than a for loop?\n",
        "   - In programming, for loops are best used when you know the number of iterations ahead of time, whereas a while loop is best used when you don't know the number of iterations in advance. Both methods can help you iterate through your code\n",
        "\n",
        "\n",
        "\n",
        "\n",
        "\n",
        "\n",
        "\n",
        "\n"
      ],
      "metadata": {
        "id": "GtC_d6M7Om3f"
      }
    },
    {
      "cell_type": "code",
      "execution_count": 1,
      "metadata": {
        "colab": {
          "base_uri": "https://localhost:8080/"
        },
        "id": "XbTrvlyAObQr",
        "outputId": "f56c049d-1512-49b8-8e20-4cd8f0a5e09b"
      },
      "outputs": [
        {
          "output_type": "stream",
          "name": "stdout",
          "text": [
            "Hello, World!\n"
          ]
        }
      ],
      "source": [
        "#1. Write a Python program to print \"Hello, World!_\n",
        "print(\"Hello, World!\")"
      ]
    },
    {
      "cell_type": "code",
      "source": [
        "# 2.Write a Python program that displays your name and age\n",
        "\n",
        "name = \"Your Name\"\n",
        "age = 25\n",
        "print(\"Name:\", name)\n",
        "print(\"Age:\", age)"
      ],
      "metadata": {
        "colab": {
          "base_uri": "https://localhost:8080/"
        },
        "id": "zWotflbFq3fO",
        "outputId": "ffee24a0-f5b5-4570-bb3b-22b840dcdff0"
      },
      "execution_count": 2,
      "outputs": [
        {
          "output_type": "stream",
          "name": "stdout",
          "text": [
            "Name: Your Name\n",
            "Age: 25\n"
          ]
        }
      ]
    },
    {
      "cell_type": "code",
      "source": [
        "# 3.  Write code to print all the pre-defined keywords in Python using the keyword library\n",
        "\n",
        "import keyword\n",
        "\n",
        "# Print all the Python keywords\n",
        "print(keyword.kwlist)\n"
      ],
      "metadata": {
        "colab": {
          "base_uri": "https://localhost:8080/"
        },
        "id": "6EHC9R9VrIdX",
        "outputId": "e7af9569-e85b-4468-f3d6-2f5346b17a5a"
      },
      "execution_count": 3,
      "outputs": [
        {
          "output_type": "stream",
          "name": "stdout",
          "text": [
            "['False', 'None', 'True', 'and', 'as', 'assert', 'async', 'await', 'break', 'class', 'continue', 'def', 'del', 'elif', 'else', 'except', 'finally', 'for', 'from', 'global', 'if', 'import', 'in', 'is', 'lambda', 'nonlocal', 'not', 'or', 'pass', 'raise', 'return', 'try', 'while', 'with', 'yield']\n"
          ]
        }
      ]
    },
    {
      "cell_type": "code",
      "source": [
        "# 4. Write a program that checks if a given word is a Python keyword?\n",
        "import keyword\n",
        "\n",
        "# Function to check if the given word is a Python keyword\n",
        "def check_keyword(word):\n",
        "    if keyword.iskeyword(word):\n",
        "        print(f\"'{word}' is a Python keyword.\")\n",
        "    else:\n",
        "        print(f\"'{word}' is not a Python keyword.\")\n",
        "\n",
        "# Get user input\n",
        "word = input(\"Enter a word to check if it's a Python keyword: \")\n",
        "\n",
        "# Check if the word is a keyword\n",
        "check_keyword(word)\n"
      ],
      "metadata": {
        "colab": {
          "base_uri": "https://localhost:8080/"
        },
        "id": "HraE4-gdraUF",
        "outputId": "30abe3e5-46da-4e24-a531-874fab3f6120"
      },
      "execution_count": 4,
      "outputs": [
        {
          "output_type": "stream",
          "name": "stdout",
          "text": [
            "Enter a word to check if it's a Python keyword: false\n",
            "'false' is not a Python keyword.\n"
          ]
        }
      ]
    },
    {
      "cell_type": "code",
      "source": [
        "# 5.0 Create a list and tuple in Python, and demonstrate how attempting to change an element works differently for each?\n",
        "# Creating a list and a tuple\n",
        "my_list = [1, 2, 3, 4, 5]\n",
        "my_tuple = (1, 2, 3, 4, 5)\n",
        "\n",
        "# Attempting to change an element in the list\n",
        "print(\"Original List:\", my_list)\n",
        "my_list[2] = 99  # Changing the third element (index 2)\n",
        "print(\"Modified List:\", my_list)\n",
        "\n",
        "# Attempting to change an element in the tuple\n",
        "print(\"\\nOriginal Tuple:\", my_tuple)\n",
        "try:\n",
        "    my_tuple[2] = 99  # Trying to change the third element (index 2)\n",
        "except TypeError as e:\n",
        "    print(\"Error when modifying tuple:\", e)\n",
        "\n"
      ],
      "metadata": {
        "id": "AABsIO2Nrqtq"
      },
      "execution_count": null,
      "outputs": []
    },
    {
      "cell_type": "code",
      "source": [
        "# 6.Write a function to demonstrate the behavior of mutable and immutable arguments?\n",
        "\n",
        "# Function to demonstrate mutable and immutable arguments\n",
        "def demonstrate_mutable_immutable():\n",
        "    # Immutable argument (int)\n",
        "    immutable_value = 10\n",
        "    print(\"Before modification (Immutable):\", immutable_value)\n",
        "\n",
        "    # Mutable argument (list)\n",
        "    mutable_value = [1, 2, 3]\n",
        "    print(\"Before modification (Mutable):\", mutable_value)\n",
        "\n",
        "    # Modifying the immutable argument inside the function\n",
        "    def modify_immutable(x):\n",
        "        x = 20  # This creates a new integer and does not affect the original value\n",
        "\n",
        "    # Modifying the mutable argument inside the function\n",
        "    def modify_mutable(lst):\n",
        "        lst.append(4)  # This modifies the original list\n",
        "\n",
        "    # Calling the functions\n",
        "    modify_immutable(immutable_value)\n",
        "    modify_mutable(mutable_value)\n",
        "\n",
        "    # Printing after modifications\n",
        "    print(\"After modification (Immutable):\", immutable_value)\n",
        "    print(\"After modification (Mutable):\", mutable_value)\n",
        "\n",
        "\n",
        "# Call the function\n",
        "demonstrate_mutable_immutable()\n"
      ],
      "metadata": {
        "id": "lcjDtX0XsHl6"
      },
      "execution_count": null,
      "outputs": []
    },
    {
      "cell_type": "code",
      "source": [
        "# 7.Write a function to demonstrate the behavior of mutable and immutable arguments?\n",
        "# Function to demonstrate mutable and immutable arguments\n",
        "def demonstrate_mutable_immutable():\n",
        "    # Immutable argument (int)\n",
        "    immutable_value = 10\n",
        "    print(\"Before modification (Immutable):\", immutable_value)\n",
        "\n",
        "    # Mutable argument (list)\n",
        "    mutable_value = [1, 2, 3]\n",
        "    print(\"Before modification (Mutable):\", mutable_value)\n",
        "\n",
        "    # Modifying the immutable argument inside the function\n",
        "    def modify_immutable(x):\n",
        "        x = 20  # This creates a new integer and does not affect the original value\n",
        "\n",
        "    # Modifying the mutable argument inside the function\n",
        "    def modify_mutable(lst):\n",
        "        lst.append(4)  # This modifies the original list\n",
        "\n",
        "    # Calling the functions\n",
        "    modify_immutable(immutable_value)\n",
        "    modify_mutable(mutable_value)\n",
        "\n",
        "    # Printing after modifications\n",
        "    print(\"After modification (Immutable):\", immutable_value)\n",
        "    print(\"After modification (Mutable):\", mutable_value)\n",
        "\n",
        "\n",
        "# Call the function\n",
        "demonstrate_mutable_immutable()\n",
        "\n"
      ],
      "metadata": {
        "colab": {
          "base_uri": "https://localhost:8080/"
        },
        "id": "l8Wb58_RsT7f",
        "outputId": "8cf01229-4fd5-4fed-954e-aef8f8a53061"
      },
      "execution_count": 6,
      "outputs": [
        {
          "output_type": "stream",
          "name": "stdout",
          "text": [
            "Before modification (Immutable): 10\n",
            "Before modification (Mutable): [1, 2, 3]\n",
            "After modification (Immutable): 10\n",
            "After modification (Mutable): [1, 2, 3, 4]\n"
          ]
        }
      ]
    },
    {
      "cell_type": "code",
      "source": [
        "# 8.Write a program to demonstrate the use of logical operators?\n",
        "def logical_operators_demo():\n",
        "    # Define some variables for testing\n",
        "    a = 5\n",
        "    b = 10\n",
        "    c = 15\n",
        "\n",
        "    # Using 'and' logical operator\n",
        "    if a < b and b < c:\n",
        "        print(\"Condition using 'and': a < b and b < c is True\")\n",
        "    else:\n",
        "        print(\"Condition using 'and': a < b and b < c is False\")\n",
        "\n",
        "    # Using 'or' logical operator\n",
        "    if a > b or b < c:\n",
        "        print(\"Condition using 'or': a > b or b < c is True\")\n",
        "    else:\n",
        "        print(\"Condition using 'or': a > b or b < c is False\")\n",
        "\n",
        "    # Using 'not' logical operator\n",
        "    if not (a == b):\n",
        "        print(\"Condition using 'not': a == b is False, so not(a == b) is True\")\n",
        "    else:\n",
        "        print(\"Condition using 'not': a == b is True, so not(a == b) is False\")\n",
        "\n",
        "# Call the function to demonstrate\n",
        "logical_operators_demo()\n"
      ],
      "metadata": {
        "colab": {
          "base_uri": "https://localhost:8080/"
        },
        "id": "DVJE5upbszbq",
        "outputId": "c465427f-be07-405a-bffb-b28780df0802"
      },
      "execution_count": 7,
      "outputs": [
        {
          "output_type": "stream",
          "name": "stdout",
          "text": [
            "Condition using 'and': a < b and b < c is True\n",
            "Condition using 'or': a > b or b < c is True\n",
            "Condition using 'not': a == b is False, so not(a == b) is True\n"
          ]
        }
      ]
    },
    {
      "cell_type": "code",
      "source": [
        "# 9.0 Write a Python program to convert user input from string to integer, float, and boolean types\n",
        "def convert_input():\n",
        "    # Get user input\n",
        "    user_input = input(\"Enter a value: \")\n",
        "\n",
        "    # Convert to Integer\n",
        "    try:\n",
        "        user_int = int(user_input)\n",
        "        print(f\"Converted to Integer: {user_int}\")\n",
        "    except ValueError:\n",
        "        print(\"Error: Input cannot be converted to Integer.\")\n",
        "\n",
        "    # Convert to Float\n",
        "    try:\n",
        "        user_float = float(user_input)\n",
        "        print(f\"Converted to Float: {user_float}\")\n",
        "    except ValueError:\n",
        "        print(\"Error: Input cannot be converted to Float.\")\n",
        "\n",
        "    # Convert to Boolean\n",
        "    # In Python, the following are considered False: '', '0', 'False', 'None'\n",
        "    # Everything else is True.\n",
        "    if user_input.lower() in ['false', '0', 'none', '']:\n",
        "        user_bool = False\n",
        "    else:\n",
        "        user_bool = True\n",
        "\n",
        "    print(f\"Converted to Boolean: {user_bool}\")\n",
        "\n",
        "# Call the function to demonstrate\n",
        "convert_input()\n"
      ],
      "metadata": {
        "id": "UWtx0MaHtFE7"
      },
      "execution_count": null,
      "outputs": []
    },
    {
      "cell_type": "code",
      "source": [
        "# 10. Write code to demonstrate type casting with list elements?\n",
        "\n",
        "def demonstrate_type_casting():\n",
        "    # Original list with different types of elements (strings)\n",
        "    mixed_list = [\"10\", \"3.14\", \"True\", \"50\"]\n",
        "    print(\"Original list:\", mixed_list)\n",
        "\n",
        "    # Type casting the elements of the list\n",
        "    int_list = [int(i) for i in mixed_list if i.replace('.', '', 1).isdigit()]\n",
        "    float_list = [float(i) for i in mixed_list if i.replace('.', '', 1).isdigit()]\n",
        "    bool_list = [i.lower() == \"true\" if i.lower() in [\"true\", \"false\"] else False for i in mixed_list]\n",
        "\n",
        "    # Display the converted lists\n",
        "    print(\"\\nList with integer conversion:\", int_list)\n",
        "    print(\"List with float conversion:\", float_list)\n",
        "    print(\"List with boolean conversion:\", bool_list)\n",
        "\n",
        "# Call the function to demonstrate\n",
        "demonstrate_type_casting()\n"
      ],
      "metadata": {
        "id": "DVV-JO_mtUov"
      },
      "execution_count": null,
      "outputs": []
    },
    {
      "cell_type": "code",
      "source": [
        "# 11.Write a program that checks if a number is positive, negative, or zero?\n",
        "\n",
        "def check_number():\n",
        "    # Get user input\n",
        "    try:\n",
        "        num = float(input(\"Enter a number: \"))  # Convert the input to a float\n",
        "    except ValueError:\n",
        "        print(\"Invalid input. Please enter a valid number.\")\n",
        "        return\n",
        "\n",
        "    # Check if the number is positive, negative, or zero\n",
        "    if num > 0:\n",
        "        print(f\"{num} is a positive number.\")\n",
        "    elif num < 0:\n",
        "        print(f\"{num} is a negative number.\")\n",
        "    else:\n",
        "        print(f\"{num} is zero.\")\n",
        "\n",
        "# Call the function to check the number\n",
        "check_number()\n",
        "\n"
      ],
      "metadata": {
        "id": "gl7LKIhqttf1"
      },
      "execution_count": null,
      "outputs": []
    },
    {
      "cell_type": "code",
      "source": [
        "# 12.  Write a for loop to print numbers from 1 to 100\n",
        "\n",
        "# Using a for loop to print numbers from 1 to 100\n",
        "for num in range(1, 101):\n",
        "    print(num)\n"
      ],
      "metadata": {
        "colab": {
          "base_uri": "https://localhost:8080/"
        },
        "id": "njZF_n64t_M9",
        "outputId": "597658de-5f6b-4f8c-f2b1-478e04f42f7a"
      },
      "execution_count": 8,
      "outputs": [
        {
          "output_type": "stream",
          "name": "stdout",
          "text": [
            "1\n",
            "2\n",
            "3\n",
            "4\n",
            "5\n",
            "6\n",
            "7\n",
            "8\n",
            "9\n",
            "10\n",
            "11\n",
            "12\n",
            "13\n",
            "14\n",
            "15\n",
            "16\n",
            "17\n",
            "18\n",
            "19\n",
            "20\n",
            "21\n",
            "22\n",
            "23\n",
            "24\n",
            "25\n",
            "26\n",
            "27\n",
            "28\n",
            "29\n",
            "30\n",
            "31\n",
            "32\n",
            "33\n",
            "34\n",
            "35\n",
            "36\n",
            "37\n",
            "38\n",
            "39\n",
            "40\n",
            "41\n",
            "42\n",
            "43\n",
            "44\n",
            "45\n",
            "46\n",
            "47\n",
            "48\n",
            "49\n",
            "50\n",
            "51\n",
            "52\n",
            "53\n",
            "54\n",
            "55\n",
            "56\n",
            "57\n",
            "58\n",
            "59\n",
            "60\n",
            "61\n",
            "62\n",
            "63\n",
            "64\n",
            "65\n",
            "66\n",
            "67\n",
            "68\n",
            "69\n",
            "70\n",
            "71\n",
            "72\n",
            "73\n",
            "74\n",
            "75\n",
            "76\n",
            "77\n",
            "78\n",
            "79\n",
            "80\n",
            "81\n",
            "82\n",
            "83\n",
            "84\n",
            "85\n",
            "86\n",
            "87\n",
            "88\n",
            "89\n",
            "90\n",
            "91\n",
            "92\n",
            "93\n",
            "94\n",
            "95\n",
            "96\n",
            "97\n",
            "98\n",
            "99\n",
            "100\n"
          ]
        }
      ]
    },
    {
      "cell_type": "code",
      "source": [
        "# 13.Write a Python program to find the sum of all even numbers between 1 and 500\n",
        "\n",
        "# Initialize the sum variable\n",
        "sum_even_numbers = 0\n",
        "\n",
        "# Loop through the range from 1 to 500\n",
        "for num in range(2, 501, 2):  # Start from 2 and step by 2 to get only even numbers\n",
        "    sum_even_numbers += num  # Add the current even number to the sum\n",
        "\n",
        "# Print the result\n",
        "print(\"Sum of all even numbers between 1 and 500 is:\", sum_even_numbers)\n"
      ],
      "metadata": {
        "id": "33wojBkpuQEr"
      },
      "execution_count": null,
      "outputs": []
    },
    {
      "cell_type": "code",
      "source": [
        "# 14.0 Write a program to reverse a string using a while loop?\n",
        "def reverse_string():\n",
        "    # Input string\n",
        "    user_input = input(\"Enter a string: \")\n",
        "\n",
        "    # Initialize variables\n",
        "    reversed_str = \"\"\n",
        "    index = len(user_input) - 1  # Start from the last character of the string\n",
        "\n",
        "    # Reverse the string using a while loop\n",
        "    while index >= 0:\n",
        "        reversed_str += user_input[index]  # Add current character to the reversed string\n",
        "        index -= 1  # Move to the previous character\n",
        "\n",
        "    # Print the reversed string\n",
        "    print(\"Reversed string:\", reversed_str)\n",
        "\n",
        "# Call the function to reverse the string\n",
        "reverse_string()\n"
      ],
      "metadata": {
        "id": "eZ1tf95SuaEN"
      },
      "execution_count": null,
      "outputs": []
    },
    {
      "cell_type": "code",
      "source": [
        "#15  Write a Python program to calculate the factorial of a number provided by the user using a while loop\n",
        "def calculate_factorial():\n",
        "    # Input: Get a number from the user\n",
        "    num = int(input(\"Enter a number to calculate its factorial: \"))\n",
        "\n",
        "    # Check if the number is negative\n",
        "    if num < 0:\n",
        "        print(\"Factorial is not defined for negative numbers.\")\n",
        "        return\n",
        "\n",
        "    # Initialize factorial variable\n",
        "    factorial = 1\n",
        "\n",
        "    # Calculate factorial using a while loop\n",
        "    while num > 1:\n",
        "        factorial *= num\n",
        "        num -= 1  # Decrease num by 1\n",
        "\n",
        "    # Print the result\n",
        "    print(\"Factorial is:\", factorial)\n",
        "\n",
        "# Call the function to calculate factorial\n",
        "calculate_factorial()\n"
      ],
      "metadata": {
        "id": "JKwdsOMiujQk"
      },
      "execution_count": null,
      "outputs": []
    }
  ]
}